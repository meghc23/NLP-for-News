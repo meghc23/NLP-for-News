{
 "cells": [
  {
   "cell_type": "markdown",
   "id": "b9aaf2c8",
   "metadata": {},
   "source": [
    "### Importing Libraries"
   ]
  },
  {
   "cell_type": "code",
   "execution_count": 1,
   "id": "11a1abe2",
   "metadata": {},
   "outputs": [
    {
     "name": "stdout",
     "output_type": "stream",
     "text": [
      "CPU times: total: 3.08 s\n",
      "Wall time: 6.7 s\n"
     ]
    }
   ],
   "source": [
    "%%time\n",
    "import numpy as np\n",
    "import pandas as pd\n",
    "\n",
    "import matplotlib\n",
    "import matplotlib.pyplot as plt\n",
    "\n",
    "from summarizer import Summarizer,TransformerSummarizer\n",
    "from sklearn.metrics import accuracy_score\n",
    "\n",
    "import warnings\n",
    "warnings.filterwarnings('ignore')"
   ]
  },
  {
   "cell_type": "markdown",
   "id": "257d52fa",
   "metadata": {},
   "source": [
    "### Data "
   ]
  },
  {
   "cell_type": "code",
   "execution_count": 2,
   "id": "8b8891c5",
   "metadata": {},
   "outputs": [
    {
     "data": {
      "text/html": [
       "<div>\n",
       "<style scoped>\n",
       "    .dataframe tbody tr th:only-of-type {\n",
       "        vertical-align: middle;\n",
       "    }\n",
       "\n",
       "    .dataframe tbody tr th {\n",
       "        vertical-align: top;\n",
       "    }\n",
       "\n",
       "    .dataframe thead th {\n",
       "        text-align: right;\n",
       "    }\n",
       "</style>\n",
       "<table border=\"1\" class=\"dataframe\">\n",
       "  <thead>\n",
       "    <tr style=\"text-align: right;\">\n",
       "      <th></th>\n",
       "      <th>text</th>\n",
       "    </tr>\n",
       "  </thead>\n",
       "  <tbody>\n",
       "    <tr>\n",
       "      <th>0</th>\n",
       "      <td>India's food regulator Food Safety and Standar...</td>\n",
       "    </tr>\n",
       "    <tr>\n",
       "      <th>1</th>\n",
       "      <td>The mother of Harshit Sharma, the class 12 Cha...</td>\n",
       "    </tr>\n",
       "    <tr>\n",
       "      <th>2</th>\n",
       "      <td>Municipal Corporation of Gurugram on Wednesday...</td>\n",
       "    </tr>\n",
       "    <tr>\n",
       "      <th>3</th>\n",
       "      <td>Scientists, for the first time, successfully f...</td>\n",
       "    </tr>\n",
       "    <tr>\n",
       "      <th>4</th>\n",
       "      <td>A Union Minister of State for Home Affairs inf...</td>\n",
       "    </tr>\n",
       "  </tbody>\n",
       "</table>\n",
       "</div>"
      ],
      "text/plain": [
       "                                                text\n",
       "0  India's food regulator Food Safety and Standar...\n",
       "1  The mother of Harshit Sharma, the class 12 Cha...\n",
       "2  Municipal Corporation of Gurugram on Wednesday...\n",
       "3  Scientists, for the first time, successfully f...\n",
       "4  A Union Minister of State for Home Affairs inf..."
      ]
     },
     "execution_count": 2,
     "metadata": {},
     "output_type": "execute_result"
    }
   ],
   "source": [
    "df = pd.read_csv('news_summary.csv', encoding='latin-1', usecols=['headlines', 'text'])\n",
    "  \n",
    "from_i = 10\n",
    "count = 5\n",
    "headlines = df['headlines']\n",
    "headlines = headlines[from_i:from_i+count].to_list()\n",
    "df = df['text']\n",
    "df = pd.DataFrame(df[from_i:from_i+count])\n",
    "df.reset_index(inplace=True, drop=True)\n",
    "df"
   ]
  },
  {
   "cell_type": "code",
   "execution_count": 3,
   "id": "c83b83bf",
   "metadata": {},
   "outputs": [
    {
     "name": "stdout",
     "output_type": "stream",
     "text": [
      "<class 'pandas.core.frame.DataFrame'>\n",
      "RangeIndex: 5 entries, 0 to 4\n",
      "Data columns (total 1 columns):\n",
      " #   Column  Non-Null Count  Dtype \n",
      "---  ------  --------------  ----- \n",
      " 0   text    5 non-null      object\n",
      "dtypes: object(1)\n",
      "memory usage: 168.0+ bytes\n"
     ]
    }
   ],
   "source": [
    "df.info()"
   ]
  },
  {
   "cell_type": "code",
   "execution_count": 4,
   "id": "5696a29f",
   "metadata": {},
   "outputs": [
    {
     "data": {
      "text/plain": [
       "0    India's food regulator Food Safety and Standar...\n",
       "1    The mother of Harshit Sharma, the class 12 Cha...\n",
       "2    Municipal Corporation of Gurugram on Wednesday...\n",
       "3    Scientists, for the first time, successfully f...\n",
       "4    A Union Minister of State for Home Affairs inf...\n",
       "Name: text, dtype: object"
      ]
     },
     "execution_count": 4,
     "metadata": {},
     "output_type": "execute_result"
    }
   ],
   "source": [
    "df['text'].head(10)"
   ]
  },
  {
   "cell_type": "code",
   "execution_count": 5,
   "id": "ec65100f",
   "metadata": {},
   "outputs": [
    {
     "data": {
      "text/plain": [
       "388"
      ]
     },
     "execution_count": 5,
     "metadata": {},
     "output_type": "execute_result"
    }
   ],
   "source": [
    "df['text'].str.len().max()"
   ]
  },
  {
   "cell_type": "code",
   "execution_count": 6,
   "id": "aba7c715",
   "metadata": {},
   "outputs": [
    {
     "name": "stdout",
     "output_type": "stream",
     "text": [
      "Length of blocks = 704\n",
      "Length of blocks = 743\n",
      "Length of blocks = 388\n",
      "\n",
      "Number of text blocks = 3\n",
      "\n",
      "Text blocks:\n",
      " ['India\\'s food regulator Food Safety and Standards Authority of India (FSSAI) is planning to create a network to collect leftover food and provide it to the needy. It is looking to connect with organisations which can collect, store and distribute leftover food from weddings and large parties. It further added that all food must meet the safety and hygiene standards. The mother of Harshit Sharma, the class 12 Chandigarh boy who got a hoax job offer call from Google, said that the incident \"devastated\" his life. He got a call, after which he shared the information with the school principal, who sent out a press release. Harshit is hospitalised since Google denied giving him a job, his mother added.', 'Municipal Corporation of Gurugram on Wednesday said that 19 out of 45 commercial building owners have decided to pay property tax instead of providing free parking to the public. Notably, MCG earlier offered a property tax waiver for building basements if they were used to provide free parking. However, the owners allegedly said that revenues from parking profited them more. Scientists, for the first time, successfully freed embryos of a piece of faulty DNA that causes a fatal heart disease to run in families. The disease, called hypertrophic cardiomyopathy, causes the heart to stop suddenly and is the result of an error in a single gene. The breakthrough could lead to preventing 10,000 disorders that are passed down the generations.', 'A Union Minister of State for Home Affairs informed the Lok Sabha on Wednesday that Delhi\\'s 2,297 residential buildings under the Central Public Works Department were found to be \"unsafe\". Another 124 buildings under the New Delhi Municipal Council were identified as dangerous. The authorities said that they conduct surveys of unsafe buildings every year and undertake required actions.']\n"
     ]
    }
   ],
   "source": [
    "# Creation the list with new long block\n",
    "max_length = 400  # minimum characters in each block\n",
    "i = 0\n",
    "bodies = []\n",
    "while i < len(df):\n",
    "    body = \"\"\n",
    "    body_empty = True\n",
    "    while (len(body) < max_length) and (i < len(df)):\n",
    "        if body_empty:\n",
    "            body = df.loc[i,'text']\n",
    "            body_empty = False\n",
    "        else: body += \" \" + df.loc[i,'text']\n",
    "        i += 1\n",
    "    bodies.append(body)\n",
    "    print(\"Length of blocks =\", len(body))\n",
    "print(f\"\\nNumber of text blocks = {len(bodies)}\\n\")\n",
    "print(\"Text blocks:\\n\", bodies)"
   ]
  },
  {
   "cell_type": "markdown",
   "id": "5c836ca1",
   "metadata": {},
   "source": [
    "### Text Summarization"
   ]
  },
  {
   "cell_type": "code",
   "execution_count": 7,
   "id": "73546046",
   "metadata": {},
   "outputs": [],
   "source": [
    "min_length_text = 40"
   ]
  },
  {
   "cell_type": "markdown",
   "id": "56c2cc16",
   "metadata": {},
   "source": [
    "#### Bert Summerizer"
   ]
  },
  {
   "cell_type": "code",
   "execution_count": 8,
   "id": "58007637",
   "metadata": {},
   "outputs": [
    {
     "name": "stderr",
     "output_type": "stream",
     "text": [
      "100%|█████████████████████████████████████████████████████████████████████████████████████████| 434/434 [00:00<?, ?B/s]\n",
      "100%|█████████████████████████████████████████████████████████████| 1344997306/1344997306 [02:12<00:00, 10114614.14B/s]\n",
      "100%|███████████████████████████████████████████████████████████████████████| 231508/231508 [00:00<00:00, 356748.27B/s]\n"
     ]
    },
    {
     "name": "stdout",
     "output_type": "stream",
     "text": [
      "CPU times: total: 45 s\n",
      "Wall time: 2min 39s\n"
     ]
    }
   ],
   "source": [
    "%%time\n",
    "bert_summary = []\n",
    "for i in range(len(bodies)):\n",
    "    bert_model = Summarizer()\n",
    "    bert_summary.append(''.join(bert_model(bodies[i], min_length=min_length_text)))"
   ]
  },
  {
   "cell_type": "markdown",
   "id": "f15c955a",
   "metadata": {},
   "source": [
    "#### GPT-2 Summarizing"
   ]
  },
  {
   "cell_type": "code",
   "execution_count": 9,
   "id": "73d909cb",
   "metadata": {},
   "outputs": [
    {
     "name": "stderr",
     "output_type": "stream",
     "text": [
      "100%|█████████████████████████████████████████████████████████████████████████████| 718/718 [00:00<00:00, 680875.03B/s]\n",
      "100%|██████████████████████████████████████████████████████████████| 1520013706/1520013706 [02:59<00:00, 8462228.97B/s]\n",
      "100%|█████████████████████████████████████████████████████████████████████| 1042301/1042301 [00:01<00:00, 997625.87B/s]\n",
      "100%|███████████████████████████████████████████████████████████████████████| 456318/456318 [00:00<00:00, 557732.12B/s]\n"
     ]
    },
    {
     "name": "stdout",
     "output_type": "stream",
     "text": [
      "CPU times: total: 1min 27s\n",
      "Wall time: 3min 35s\n"
     ]
    }
   ],
   "source": [
    "%%time\n",
    "gpt_summary = []\n",
    "for i in range(len(bodies)):\n",
    "    GPT2_model = TransformerSummarizer(transformer_type=\"GPT2\",transformer_model_key=\"gpt2-medium\")\n",
    "    gpt_summary.append(''.join(GPT2_model(bodies[i], min_length=min_length_text)))"
   ]
  },
  {
   "cell_type": "markdown",
   "id": "cf445bbe",
   "metadata": {},
   "source": [
    "#### XLNet Summarizing"
   ]
  },
  {
   "cell_type": "code",
   "execution_count": 10,
   "id": "2e022271",
   "metadata": {},
   "outputs": [
    {
     "name": "stderr",
     "output_type": "stream",
     "text": [
      "100%|█████████████████████████████████████████████████████████████████████████████████████████| 760/760 [00:00<?, ?B/s]\n",
      "100%|███████████████████████████████████████████████████████████████| 467042463/467042463 [00:44<00:00, 10390176.69B/s]\n",
      "100%|███████████████████████████████████████████████████████████████████████| 798011/798011 [00:01<00:00, 782457.38B/s]\n"
     ]
    },
    {
     "name": "stdout",
     "output_type": "stream",
     "text": [
      "CPU times: total: 23.9 s\n",
      "Wall time: 1min 1s\n"
     ]
    }
   ],
   "source": [
    "%%time\n",
    "xlnet_summary = []\n",
    "for i in range(len(bodies)):\n",
    "    model = TransformerSummarizer(transformer_type=\"XLNet\",transformer_model_key=\"xlnet-base-cased\")\n",
    "    xlnet_summary.append(''.join(model(bodies[i], min_length=min_length_text)))"
   ]
  },
  {
   "cell_type": "markdown",
   "id": "e7368a73",
   "metadata": {},
   "source": [
    "### Result"
   ]
  },
  {
   "cell_type": "code",
   "execution_count": 11,
   "id": "3e082030",
   "metadata": {},
   "outputs": [
    {
     "name": "stdout",
     "output_type": "stream",
     "text": [
      "All Summarizing Results:\n",
      "\n",
      "ORIGINAL TEXT:\n",
      "India's food regulator Food Safety and Standards Authority of India (FSSAI) is planning to create a network to collect leftover food and provide it to the needy. It is looking to connect with organisations which can collect, store and distribute leftover food from weddings and large parties. It further added that all food must meet the safety and hygiene standards. The mother of Harshit Sharma, the class 12 Chandigarh boy who got a hoax job offer call from Google, said that the incident \"devastated\" his life. He got a call, after which he shared the information with the school principal, who sent out a press release. Harshit is hospitalised since Google denied giving him a job, his mother added.\n",
      "\n",
      "BERT Summarizing Result:\n",
      "India's food regulator Food Safety and Standards Authority of India (FSSAI) is planning to create a network to collect leftover food and provide it to the needy.\n",
      "\n",
      "GPT-2 Summarizing Result:\n",
      "India's food regulator Food Safety and Standards Authority of India (FSSAI) is planning to create a network to collect leftover food and provide it to the needy. Harshit is hospitalised since Google denied giving him a job, his mother added.\n",
      "\n",
      "XLNet Summarizing Result:\n",
      "India's food regulator Food Safety and Standards Authority of India (FSSAI) is planning to create a network to collect leftover food and provide it to the needy.\n",
      "\n",
      "Original headline:\n",
      "Food regulator planning leftover banks to feed hungry people\n",
      "\n",
      "\n",
      "\n",
      "ORIGINAL TEXT:\n",
      "Municipal Corporation of Gurugram on Wednesday said that 19 out of 45 commercial building owners have decided to pay property tax instead of providing free parking to the public. Notably, MCG earlier offered a property tax waiver for building basements if they were used to provide free parking. However, the owners allegedly said that revenues from parking profited them more. Scientists, for the first time, successfully freed embryos of a piece of faulty DNA that causes a fatal heart disease to run in families. The disease, called hypertrophic cardiomyopathy, causes the heart to stop suddenly and is the result of an error in a single gene. The breakthrough could lead to preventing 10,000 disorders that are passed down the generations.\n",
      "\n",
      "BERT Summarizing Result:\n",
      "Municipal Corporation of Gurugram on Wednesday said that 19 out of 45 commercial building owners have decided to pay property tax instead of providing free parking to the public.\n",
      "\n",
      "GPT-2 Summarizing Result:\n",
      "Municipal Corporation of Gurugram on Wednesday said that 19 out of 45 commercial building owners have decided to pay property tax instead of providing free parking to the public. Notably, MCG earlier offered a property tax waiver for building basements if they were used to provide free parking.\n",
      "\n",
      "XLNet Summarizing Result:\n",
      "Municipal Corporation of Gurugram on Wednesday said that 19 out of 45 commercial building owners have decided to pay property tax instead of providing free parking to the public. Scientists, for the first time, successfully freed embryos of a piece of faulty DNA that causes a fatal heart disease to run in families.\n",
      "\n",
      "Original headline:\n",
      "Call devastated his life: Mom of boy who got 'Google' offer\n",
      "\n",
      "\n",
      "\n",
      "ORIGINAL TEXT:\n",
      "A Union Minister of State for Home Affairs informed the Lok Sabha on Wednesday that Delhi's 2,297 residential buildings under the Central Public Works Department were found to be \"unsafe\". Another 124 buildings under the New Delhi Municipal Council were identified as dangerous. The authorities said that they conduct surveys of unsafe buildings every year and undertake required actions.\n",
      "\n",
      "BERT Summarizing Result:\n",
      "A Union Minister of State for Home Affairs informed the Lok Sabha on Wednesday that Delhi's 2,297 residential buildings under the Central Public Works Department were found to be \"unsafe\".\n",
      "\n",
      "GPT-2 Summarizing Result:\n",
      "A Union Minister of State for Home Affairs informed the Lok Sabha on Wednesday that Delhi's 2,297 residential buildings under the Central Public Works Department were found to be \"unsafe\". Another 124 buildings under the New Delhi Municipal Council were identified as dangerous.\n",
      "\n",
      "XLNet Summarizing Result:\n",
      "A Union Minister of State for Home Affairs informed the Lok Sabha on Wednesday that Delhi's 2,297 residential buildings under the Central Public Works Department were found to be \"unsafe\". Another 124 buildings under the New Delhi Municipal Council were identified as dangerous.\n",
      "\n",
      "Original headline:\n",
      "19 Gurugram buildings to pay property tax over free parking\n",
      "\n",
      "\n",
      "\n",
      "CPU times: total: 0 ns\n",
      "Wall time: 0 ns\n"
     ]
    }
   ],
   "source": [
    "%%time\n",
    "print(\"All Summarizing Results:\\n\")\n",
    "for i in range(len(bodies)):\n",
    "    print(\"ORIGINAL TEXT:\")\n",
    "    print(bodies[i])\n",
    "    print(\"\\nBERT Summarizing Result:\")\n",
    "    print(bert_summary[i])\n",
    "    print(\"\\nGPT-2 Summarizing Result:\")\n",
    "    print(gpt_summary[i])\n",
    "    print(\"\\nXLNet Summarizing Result:\")\n",
    "    print(xlnet_summary[i])\n",
    "    print(\"\\nOriginal headline:\")\n",
    "    print(headlines[i])\n",
    "    print(\"\\n\\n\")"
   ]
  }
 ],
 "metadata": {
  "kernelspec": {
   "display_name": "Python 3 (ipykernel)",
   "language": "python",
   "name": "python3"
  },
  "language_info": {
   "codemirror_mode": {
    "name": "ipython",
    "version": 3
   },
   "file_extension": ".py",
   "mimetype": "text/x-python",
   "name": "python",
   "nbconvert_exporter": "python",
   "pygments_lexer": "ipython3",
   "version": "3.10.7"
  }
 },
 "nbformat": 4,
 "nbformat_minor": 5
}
